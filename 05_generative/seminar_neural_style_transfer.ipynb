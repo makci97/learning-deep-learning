{
 "cells": [
  {
   "cell_type": "markdown",
   "metadata": {},
   "source": [
    "\n",
    "# Neural Transfer\n",
    "Disclaimer: This notebook is an adopted version of [this tutorial](https://pytorch.org/tutorials/advanced/neural_style_tutorial.html#sphx-glr-download-advanced-neural-style-tutorial-py) and [this repository](https://github.com/pytorch/examples). Images with loss explanations are taken from [this blogpost](https://towardsdatascience.com/perceptual-losses-for-real-time-style-transfer-and-super-resolution-637b5d93fa6d).\n",
    "\n",
    "Introduction\n",
    "------------\n",
    "\n",
    "This tutorial explains how to implement the simplified version of [Neural-Style algorithm](https://arxiv.org/abs/1508.06576) developed by Leon A. Gatys, Alexander S. Ecker and Matthias Bethge.\n",
    "Neural-Style, or Neural-Transfer, allows you to take an image and reproduce it with a new artistic style. The algorithm takes three images, an **input image**, a **content-image**, and a **style-image**, and changes the input  to resemble the content of the content-image and the artistic style of the style-image."
   ]
  },
  {
   "cell_type": "markdown",
   "metadata": {},
   "source": [
    "Underlying Principle\n",
    "--------------------\n",
    "\n",
    "The principle is simple: we define two distances, one for the content ($D_C$) and one for the style ($D_S$). $D_C$ measures how different the content is between two images while $D_S$ measures how different the style is between two images. Then, we take a third image, the input, and transform it to minimize both its content-distance with the content-image and its style-distance with the style-image. Now we can import the necessary packages and begin the neural transfer.\n",
    "\n",
    "Importing Packages and Selecting a Device\n",
    "-----------------------------------------\n",
    "Below is a  list of the packages needed to implement the neural transfer.\n",
    "\n",
    "-  ``torch``, ``torch.nn``, ``numpy`` (indispensables packages for\n",
    "   neural networks with PyTorch)\n",
    "-  ``torch.optim`` (efficient gradient descents)\n",
    "-  ``PIL``, ``PIL.Image``, ``matplotlib.pyplot`` (load and display\n",
    "   images)\n",
    "-  ``torchvision.transforms`` (transform PIL images into tensors)\n",
    "-  ``torchvision.models`` (train or load pre-trained models)"
   ]
  },
  {
   "cell_type": "code",
   "execution_count": null,
   "metadata": {},
   "outputs": [],
   "source": [
    "from __future__ import print_function\n",
    "\n",
    "import torch\n",
    "import torch.nn as nn\n",
    "import torch.nn.functional as F\n",
    "import torch.optim as optim\n",
    "\n",
    "from PIL import Image\n",
    "\n",
    "%matplotlib inline\n",
    "import matplotlib\n",
    "from matplotlib import pylab as plt\n",
    "plt.rcParams['figure.figsize'] = (15, 15)\n",
    "\n",
    "import torchvision.transforms as transforms\n",
    "import torchvision.models as models\n",
    "\n",
    "import copy"
   ]
  },
  {
   "cell_type": "markdown",
   "metadata": {},
   "source": [
    "Next, we need to choose which device to run the network on and import the content and style images. Running the neural transfer algorithm on large images takes longer and will go much faster when running on a GPU. We can use ``torch.cuda.is_available()`` to detect if there is a GPU available. Next, we set the ``torch.device`` for use throughout the tutorial. Also the ``.to(device)`` method is used to move tensors or modules to a desired device. "
   ]
  },
  {
   "cell_type": "code",
   "execution_count": null,
   "metadata": {},
   "outputs": [],
   "source": [
    "device = torch.device(\"cuda\" if torch.cuda.is_available() else \"cpu\")"
   ]
  },
  {
   "cell_type": "markdown",
   "metadata": {},
   "source": [
    "Then we define paths to our content- and style-images (there are som examples in `./data`):"
   ]
  },
  {
   "cell_type": "code",
   "execution_count": null,
   "metadata": {},
   "outputs": [],
   "source": [
    "style_image_path = \"./data/starry-night.jpg\"\n",
    "content_image_path = \"./data/amsterdam.jpg\""
   ]
  },
  {
   "cell_type": "markdown",
   "metadata": {},
   "source": [
    "Loading the Images\n",
    "------------------\n",
    "\n",
    "Now we will import the style and content images. The original PIL images have values between 0 and 255, but when transformed into torch tensors, their values are converted to be between 0 and 1. The images also need to be resized to have the same dimensions. An important detail to note is that neural networks from the torch library are trained with tensor values ranging from 0 to 1. If you try to feed the networks with 0 to 255 tensor images, then the activated feature maps will be unable sense the intended content and style. However, pre-trained networks from the Caffe library are trained with 0 to 255 tensor images. "
   ]
  },
  {
   "cell_type": "code",
   "execution_count": null,
   "metadata": {},
   "outputs": [],
   "source": [
    "# desired size of the output image\n",
    "imsize = 512 if torch.cuda.is_available() else 128  # use small size if no gpu\n",
    "\n",
    "image_transform_fn = transforms.Compose([\n",
    "    transforms.Resize((imsize, imsize)),  # scale imported image\n",
    "    transforms.ToTensor()  # transform it into a torch tensor\n",
    "])\n",
    "\n",
    "\n",
    "def image_loader(image_name):\n",
    "    image = Image.open(image_name)\n",
    "    \n",
    "    # fake batch dimension required to fit network's input dimensions\n",
    "    image = image_transform_fn(image).unsqueeze(0)\n",
    "    return image.to(device, torch.float)\n",
    "\n",
    "\n",
    "style_image = image_loader(style_image_path)\n",
    "content_image = image_loader(content_image_path)\n",
    "\n",
    "assert style_image.size() == content_image.size(), \\\n",
    "    \"we need to import style and content images of the same size\""
   ]
  },
  {
   "cell_type": "markdown",
   "metadata": {},
   "source": [
    "Now, let's create a function that displays an image by reconverting a \n",
    "copy of it to PIL format and displaying the copy using \n",
    "``plt.imshow``. We will try displaying the content and style images \n",
    "to ensure they were imported correctly.\n",
    "\n"
   ]
  },
  {
   "cell_type": "code",
   "execution_count": null,
   "metadata": {},
   "outputs": [],
   "source": [
    "def imshow(tensor, title=None):\n",
    "    image = tensor.detach().cpu().numpy()\n",
    "    image = image.squeeze(0)  # remove the fake batch dimension\n",
    "    image = image.transpose(1, 2, 0)  # making channel dim last\n",
    "    \n",
    "    plt.imshow(image)\n",
    "    if title is not None:\n",
    "        plt.title(title)\n",
    "\n",
    "\n",
    "imshow(style_image, title='Style Image')\n",
    "plt.show()\n",
    "\n",
    "imshow(content_image, title='Content Image')\n",
    "plt.show()"
   ]
  },
  {
   "cell_type": "markdown",
   "metadata": {},
   "source": [
    "## Task 1 (1 point). Extracting VGG-16 features"
   ]
  },
  {
   "cell_type": "markdown",
   "metadata": {},
   "source": [
    "Now we need to import a pre-trained neural network. We will use a VGG-16 network similar to the one used in the paper.\n",
    "\n",
    "PyTorch’s implementation of VGG is a module divided into two child ``Sequential`` modules: ``features`` (containing convolution and pooling layers), and ``classifier`` (containing fully connected layers). We will use the ``features`` module because we need the output of the individual convolution layers to measure content and style loss. Some layers have different behavior during training than evaluation, so we must set the network to evaluation mode using ``.eval()``.\n",
    "\n",
    "Here we need to hack pretrained VGG-16 model to extract features from intermediate layers `relu1_2`, `relu2_2`, `relu3_3`, `relu4_3` (ReLUs just before MaxPool2d layers, except the last one). Below you need to hack VGG16 and return intermediate features in `.forward()`:"
   ]
  },
  {
   "cell_type": "code",
   "execution_count": null,
   "metadata": {},
   "outputs": [],
   "source": [
    "class Vgg16(torch.nn.Module):\n",
    "    def __init__(self, requires_grad=False):\n",
    "        super(Vgg16, self).__init__()\n",
    "        \n",
    "        vgg_pretrained_features = models.vgg16(pretrained=True).features\n",
    "        \n",
    "        self.slice1 = torch.nn.Sequential()\n",
    "        self.slice2 = torch.nn.Sequential()\n",
    "        self.slice3 = torch.nn.Sequential()\n",
    "        self.slice4 = torch.nn.Sequential()\n",
    "        \n",
    "        for x in range(4):\n",
    "            self.slice1.add_module(str(x), vgg_pretrained_features[x])\n",
    "        for x in range(4, 9):\n",
    "            self.slice2.add_module(str(x), vgg_pretrained_features[x])\n",
    "        for x in range(9, 16):\n",
    "            self.slice3.add_module(str(x), vgg_pretrained_features[x])\n",
    "        for x in range(16, 23):\n",
    "            self.slice4.add_module(str(x), vgg_pretrained_features[x])\n",
    "            \n",
    "        if not requires_grad:\n",
    "            for param in self.parameters():\n",
    "                param.requires_grad = False\n",
    "\n",
    "    def forward(self, x):\n",
    "        ## your code here: just forward slice by slice and save intermediate features\n",
    "        \n",
    "        out = {\n",
    "            'relu1_2': x_relu1_2,\n",
    "            'relu2_2': x_relu2_2,\n",
    "            'relu3_3': x_relu3_3,\n",
    "            'relu4_3': x_relu4_3,\n",
    "        }\n",
    "        return out"
   ]
  },
  {
   "cell_type": "markdown",
   "metadata": {},
   "source": [
    "## Normalization\n",
    "Additionally, VGG networks are trained on images with each channel normalized by **mean=[0.485, 0.456, 0.406]** and **std=[0.229, 0.224, 0.225]**. We will use them to normalize the image before sending it into the network:"
   ]
  },
  {
   "cell_type": "code",
   "execution_count": null,
   "metadata": {},
   "outputs": [],
   "source": [
    "normalization_mean = [0.485, 0.456, 0.406]\n",
    "normalization_std = [0.229, 0.224, 0.225]\n",
    "\n",
    "class Normalization(nn.Module):\n",
    "    def __init__(self, mean, std):\n",
    "        super().__init__()\n",
    "\n",
    "        self.mean = torch.tensor(mean).view(-1, 1, 1)\n",
    "        self.std = torch.tensor(std).view(-1, 1, 1)\n",
    "\n",
    "    def forward(self, x):\n",
    "        mean = self.mean.clone().to(x.device)\n",
    "        std = self.std.clone().to(x.device)\n",
    "        \n",
    "        result = ## your code here\n",
    "        return result"
   ]
  },
  {
   "cell_type": "markdown",
   "metadata": {},
   "source": [
    "## Task 2 (2 points). Perceptual loss functions\n",
    "\n",
    "### Content loss\n",
    "\n",
    "Here is image explaining content loss. Дong and hard look at explanation and implement content loss (if you still have questions refer to [orignal paper](https://arxiv.org/abs/1508.06576) or [this blogpost](https://towardsdatascience.com/perceptual-losses-for-real-time-style-transfer-and-super-resolution-637b5d93fa6d))."
   ]
  },
  {
   "cell_type": "markdown",
   "metadata": {},
   "source": [
    "<img src=\"static/content-loss.jpg\" width=1000 align=\"center\"/>"
   ]
  },
  {
   "cell_type": "code",
   "execution_count": null,
   "metadata": {},
   "outputs": [],
   "source": [
    "class ContentLoss(nn.Module):\n",
    "    def __init__(self):\n",
    "        super().__init__()\n",
    "\n",
    "    def forward(self, pred_features, target_features):\n",
    "        \"\"\"Calculates content loss of 2 given feature maps\n",
    "\n",
    "        Args:\n",
    "            pred_features (torch tensor of shape (b, c, h, w)): features of input image\n",
    "            target_features (torch tensor of shape (b, c, h, w)): features of content image\n",
    "        \"\"\"\n",
    "        result = ## your code here\n",
    "        return result"
   ]
  },
  {
   "cell_type": "markdown",
   "metadata": {},
   "source": [
    "## Style loss"
   ]
  },
  {
   "cell_type": "markdown",
   "metadata": {},
   "source": [
    "Same exercise with style loss:"
   ]
  },
  {
   "cell_type": "markdown",
   "metadata": {},
   "source": [
    "<img src=\"static/style-loss.jpg\" width=1000 align=\"center\"/>"
   ]
  },
  {
   "cell_type": "markdown",
   "metadata": {},
   "source": [
    "**Note 1**: to calculate **gram matrix** of feature map of shape $(c, h, w)$ you need to squash spatial dimensions into vectoe getting tensor of shape $(c, h \\times w)$ and after it calculate gram matrix (refer to [wiki](http://mlwiki.org/index.php/Gram_Matrices)).\n",
    "\n",
    "**Note 2**: don't forget to norm resulting loss by $c \\times h \\times w$"
   ]
  },
  {
   "cell_type": "code",
   "execution_count": null,
   "metadata": {},
   "outputs": [],
   "source": [
    "class StyleLoss(nn.Module):\n",
    "    def __init__(self):\n",
    "        super().__init__()\n",
    "\n",
    "    def forward(self, pred_features, target_features):\n",
    "        \"\"\"Calculates content loss of 2 given feature maps\n",
    "\n",
    "        Args:\n",
    "            pred_features (torch tensor of shape (b, c, h, w)): features of input image\n",
    "            target_features (torch tensor of shape (b, c, h, w)): features of content image\n",
    "        \"\"\"\n",
    "        \n",
    "        pred_gram_matrix = self.gram_matrix(pred_features)\n",
    "        target_gram_matrix = self.gram_matrix(target_features)\n",
    "        \n",
    "        return F.mse_loss(pred_gram_matrix, target_gram_matrix)\n",
    "    \n",
    "    def gram_matrix(self, features):\n",
    "        \"\"\"Calculates gram matrix of given feature map\n",
    "\n",
    "        Args:\n",
    "            features (torch tensor of shape (b, c, h, w)): feature map\n",
    "            \n",
    "        Returns:\n",
    "            gram_matrix (torch tensor of shape (b, c, c)): resulting gram matrix\n",
    "        \"\"\"\n",
    "        \n",
    "        (b, c, h, w) = features.size()\n",
    "        features = features.view(b, c, w * h)\n",
    "        gram_matrix = ## your code here\n",
    "        \n",
    "        return gram_matrix"
   ]
  },
  {
   "cell_type": "markdown",
   "metadata": {},
   "source": [
    "## Task 3 (1 point). Let's do neural style transfer"
   ]
  },
  {
   "cell_type": "markdown",
   "metadata": {},
   "source": [
    "Setup model:"
   ]
  },
  {
   "cell_type": "code",
   "execution_count": null,
   "metadata": {},
   "outputs": [],
   "source": [
    "vgg16 = Vgg16(requires_grad=True).to(device)\n",
    "vgg16.eval()"
   ]
  },
  {
   "cell_type": "markdown",
   "metadata": {},
   "source": [
    "Setup normalizer:"
   ]
  },
  {
   "cell_type": "code",
   "execution_count": null,
   "metadata": {},
   "outputs": [],
   "source": [
    "normalizer = Normalization(normalization_mean, normalization_std).to(device)"
   ]
  },
  {
   "cell_type": "markdown",
   "metadata": {},
   "source": [
    "Setup perceptual losses:"
   ]
  },
  {
   "cell_type": "code",
   "execution_count": null,
   "metadata": {},
   "outputs": [],
   "source": [
    "content_criterion = ContentLoss().to(device)\n",
    "style_criterion = StyleLoss().to(device)"
   ]
  },
  {
   "cell_type": "markdown",
   "metadata": {},
   "source": [
    "Setup layers for content and style losses. Your can play with these parameteres:"
   ]
  },
  {
   "cell_type": "code",
   "execution_count": null,
   "metadata": {},
   "outputs": [],
   "source": [
    "content_loss_layers = ['relu2_2']\n",
    "style_loss_layers = ['relu1_2', 'relu2_2', 'relu3_3', 'relu4_3']"
   ]
  },
  {
   "cell_type": "markdown",
   "metadata": {},
   "source": [
    "Next, we select the input image. You can use a copy of the content image or white noise."
   ]
  },
  {
   "cell_type": "code",
   "execution_count": null,
   "metadata": {},
   "outputs": [],
   "source": [
    "input_image = content_image.clone()\n",
    "input_image.requires_grad_()\n",
    "\n",
    "# if you want to use white noise instead uncomment the below line:\n",
    "# input_image = torch.randn_like(content_image)\n",
    "\n",
    "imshow(input_image, title='Input Image')"
   ]
  },
  {
   "cell_type": "code",
   "execution_count": null,
   "metadata": {
    "scrolled": false
   },
   "outputs": [],
   "source": [
    "n_epochs = 200\n",
    "\n",
    "# it's very important to tune loss weights\n",
    "content_weight = 1 \n",
    "style_weight = 500000\n",
    "\n",
    "content_image_features = ## your code here (don't forget to normalize!)\n",
    "style_image_features = ## your code here (don't forget to normalize!)\n",
    "\n",
    "opt = torch.optim.SGD([input_image], lr=0.1)  # tune lr\n",
    "\n",
    "for epoch in range(n_epochs):\n",
    "    if epoch % 10 == 0:\n",
    "        print(\"Epoch: \", epoch)\n",
    "        imshow(torch.clamp(input_image.clone(), 0.0, 1.0), title='Input Image')\n",
    "        plt.show()\n",
    "        \n",
    "    x = torch.clamp(input_image, 0.0, 1.0)  # clamp image to be in [0.0, 1.0] range\n",
    "    input_image_features = vgg16(normalizer(x))\n",
    "    \n",
    "    # content loss\n",
    "    content_loss = 0.0\n",
    "    for layer in content_loss_layers:\n",
    "        content_loss += ## your code here (don't forget to .detach() target feature map)\n",
    "    content_loss = content_loss / len(content_loss_layers)\n",
    "    \n",
    "    # style loss\n",
    "    style_loss = 0.0\n",
    "    for layer in style_loss_layers:\n",
    "        style_loss += ## your code here (don't forget to .detach() target feature map)\n",
    "    style_loss = style_loss / len(style_loss_layers)\n",
    "\n",
    "    # total loss (weighted sum of content and style losses)\n",
    "    total_loss = ## your code here\n",
    "    \n",
    "    # optimize\n",
    "    opt.zero_grad()\n",
    "    total_loss.backward()\n",
    "    opt.step()"
   ]
  },
  {
   "cell_type": "markdown",
   "metadata": {},
   "source": [
    "Final result:"
   ]
  },
  {
   "cell_type": "code",
   "execution_count": null,
   "metadata": {},
   "outputs": [],
   "source": [
    "imshow(input_image, title='Result')"
   ]
  }
 ],
 "metadata": {
  "kernelspec": {
   "display_name": "Python 3",
   "language": "python",
   "name": "python3"
  },
  "language_info": {
   "codemirror_mode": {
    "name": "ipython",
    "version": 3
   },
   "file_extension": ".py",
   "mimetype": "text/x-python",
   "name": "python",
   "nbconvert_exporter": "python",
   "pygments_lexer": "ipython3",
   "version": "3.6.7"
  }
 },
 "nbformat": 4,
 "nbformat_minor": 1
}
